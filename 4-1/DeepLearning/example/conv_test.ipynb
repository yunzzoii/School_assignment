{
  "nbformat": 4,
  "nbformat_minor": 0,
  "metadata": {
    "colab": {
      "name": "conv_test",
      "private_outputs": true,
      "provenance": [],
      "collapsed_sections": []
    },
    "kernelspec": {
      "display_name": "Python 3",
      "name": "python3"
    },
    "accelerator": "GPU"
  },
  "cells": [
    {
      "cell_type": "markdown",
      "metadata": {
        "id": "rX8mhOLljYeM"
      },
      "source": [
        "##### Copyright 2019 The TensorFlow Authors."
      ]
    },
    {
      "cell_type": "code",
      "metadata": {
        "id": "0trJmd6DjqBZ"
      },
      "source": [
        "import tensorflow as tf\n",
        "print(\"TensorFlow version:\", tf.__version__)"
      ],
      "execution_count": null,
      "outputs": []
    },
    {
      "cell_type": "code",
      "metadata": {
        "id": "SKDmZMnpml3p"
      },
      "source": [
        "import numpy as np\n",
        "\n",
        "source = np.zeros([5,5])\n",
        "source[2,2] = 1\n",
        "source[2,3] = 0.5\n",
        "print(source)\n",
        "\n",
        "filter = np.eye(3)\n",
        "print(filter)\n",
        "\n",
        "\n",
        "#reshape\n",
        "source = tf.reshape(source, [1, 5, 5, 1], name=None)#reshape\n",
        "filter = tf.reshape(filter, [3, 3, 1, 1], name=None)#reshape\n",
        "\n",
        "print(source.shape)\n",
        "print(filter.shape)\n",
        "\n",
        "\n"
      ],
      "execution_count": null,
      "outputs": []
    },
    {
      "cell_type": "code",
      "source": [
        "conv_out = tf.nn.conv2d(source, filter, 1, padding = 'SAME', data_format='NHWC')\n",
        "conv_out = np.squeeze(conv_out)\n",
        "print(conv_out)\n",
        "print(conv_out.shape)\n",
        "\n"
      ],
      "metadata": {
        "id": "z95W5XF757Hy"
      },
      "execution_count": null,
      "outputs": []
    },
    {
      "cell_type": "code",
      "source": [
        "conv_out = tf.nn.conv2d(source, filter, 1, padding = 'VALID', data_format='NHWC')\n",
        "conv_out = np.squeeze(conv_out)\n",
        "print(conv_out)\n",
        "print(conv_out.shape)"
      ],
      "metadata": {
        "id": "M-SShhxI6E5g"
      },
      "execution_count": null,
      "outputs": []
    },
    {
      "cell_type": "markdown",
      "source": [
        "\n",
        "\n",
        "Real convolution examples "
      ],
      "metadata": {
        "id": "NnqwaO4n6Npo"
      }
    },
    {
      "cell_type": "code",
      "metadata": {
        "id": "7FP5258xjs-v"
      },
      "source": [
        "mnist = tf.keras.datasets.mnist\n",
        "\n",
        "(x_train, y_train), (x_test, y_test) = mnist.load_data()\n",
        "x_train, x_test = x_train / 255.0, x_test / 255.0\n",
        "\n",
        "print(x_train.shape)"
      ],
      "execution_count": null,
      "outputs": []
    },
    {
      "cell_type": "code",
      "metadata": {
        "id": "yTCn79DTm5Bb"
      },
      "source": [
        "filter_ = np.ones([3,3])/9.\n",
        "print(filter_)\n",
        "filter_ = tf.reshape(filter_, [3, 3, 1, 1], name=None)#reshape\n",
        "\n",
        "\n",
        "\n",
        "tmp_in = x_train[0]\n",
        "print(tmp_in.shape)\n",
        "tmp_in = tf.reshape(tmp_in, [1, 28, 28, 1], name=None)#reshape\n",
        "\n",
        "\n",
        "conv_out = tf.nn.conv2d(tmp_in, filter_, 1, padding = 'SAME', data_format='NHWC', dilations=None, name=None)\n",
        "conv_out = np.squeeze(conv_out)\n",
        "\n",
        "\n",
        "\n",
        "import matplotlib.pyplot as plt\n",
        "plt.imshow(x_train[0], cmap='gray')\n",
        "plt.show()\n",
        "plt.imshow(conv_out, cmap='gray')\n",
        "plt.show()"
      ],
      "execution_count": null,
      "outputs": []
    }
  ]
}