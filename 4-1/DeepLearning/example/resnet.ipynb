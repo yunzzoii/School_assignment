{
  "nbformat": 4,
  "nbformat_minor": 0,
  "metadata": {
    "accelerator": "GPU",
    "colab": {
      "name": "resnet",
      "private_outputs": true,
      "provenance": [],
      "collapsed_sections": [],
      "machine_shape": "hm"
    },
    "kernelspec": {
      "display_name": "Python 3",
      "name": "python3"
    }
  },
  "cells": [
    {
      "cell_type": "code",
      "metadata": {
        "id": "iAve6DCL4JH4"
      },
      "source": [
        "import tensorflow as tf\n",
        "from PIL import Image\n",
        "import matplotlib.pyplot as plt\n",
        "import numpy as np"
      ],
      "execution_count": null,
      "outputs": []
    },
    {
      "cell_type": "markdown",
      "metadata": {
        "id": "jRFxccghyMVo"
      },
      "source": [
        "### MNIST 데이터셋 다운로드하고 준비하기"
      ]
    },
    {
      "cell_type": "code",
      "metadata": {
        "id": "JWoEqyMuXFF4"
      },
      "source": [
        "(train_images, train_labels), (test_images, test_labels) = tf.keras.datasets.mnist.load_data() #28*28 resolution image\n",
        "\n",
        "im_size = 224\n",
        "\n",
        "n_samples = 10000  #10k\n",
        "tmp_labels = np.zeros(n_samples)\n",
        "tmp_images = []\n",
        "\n",
        "for i in range(n_samples):\n",
        "  tmp_org = train_images[i]\n",
        "  tmp = Image.fromarray(tmp_org)  \n",
        "  tmp = tmp.resize((im_size, im_size))#resize from 28*28 to 224*224\n",
        "  tmp = np.asarray(tmp)\n",
        "  tmp = np.expand_dims(tmp, axis=-1)\n",
        "  tmp = np.concatenate([tmp, tmp, tmp], axis = 2)#single channel image to 3-ch image\n",
        "    \n",
        "  tmp_images.append(np.expand_dims(tmp, axis=0))\n",
        "  tmp_labels[i] = train_labels[i]\n",
        "  \n",
        "train_images = np.concatenate(tmp_images, axis=0)\n",
        "train_labels = tmp_labels\n",
        "\n",
        "\n",
        "n_samples = 1000 #1k\n",
        "tmp_labels = np.zeros(n_samples)\n",
        "tmp_images = []\n",
        "for i in range(n_samples):\n",
        "  tmp_org = test_images[i]\n",
        "  tmp = Image.fromarray(tmp_org)  \n",
        "  tmp = tmp.resize((im_size, im_size))\n",
        "  tmp = np.asarray(tmp)\n",
        "  tmp = np.expand_dims(tmp, axis=-1)\n",
        "  tmp = np.concatenate([tmp, tmp, tmp], axis = 2)\n",
        "    \n",
        "  tmp_images.append(np.expand_dims(tmp, axis=0))\n",
        "  tmp_labels[i] = test_labels[i]\n",
        "  \n",
        "test_images = np.concatenate(tmp_images, axis=0)\n",
        "test_labels = tmp_labels"
      ],
      "execution_count": null,
      "outputs": []
    },
    {
      "cell_type": "code",
      "metadata": {
        "id": "M5m7rmAP0PDO"
      },
      "source": [
        "plt.figure(figsize=(10,10))\n",
        "for i in range(25):\n",
        "    plt.subplot(5,5,i+1)\n",
        "    plt.imshow(train_images[i], cmap=plt.cm.binary)\n",
        "plt.show()\n"
      ],
      "execution_count": null,
      "outputs": []
    },
    {
      "cell_type": "code",
      "metadata": {
        "id": "L9YmGQBQPrdn"
      },
      "source": [
        "#model = tf.keras.applications.ResNet50(include_top=True, weights = 'imagenet' , classes = 1000)\n",
        "#model = tf.keras.applications.VGG19(weights = None)\n",
        "#model = tf.keras.applications.MobileNetV2(weights = None)\n",
        "\n",
        "#model = tf.keras.applications.ResNet50(include_top=True, weights = 'imagenet', classes = 1000)\n",
        "#from tensorflow.keras.applications.vgg19 import VGG19\n",
        "#VGG = VGG19(weights='imagenet',  include_top=False, classes = 10)#224*224\n",
        "\n",
        "\n",
        "\n",
        "#\n",
        "\n",
        "#ResNet50 = tf.keras.applications.ResNet50V2 (weights='imagenet', include_top=False, classes = 10)#ResNet50\n",
        "#model = tf.keras.applications.ResNet50V2 (weights='imagenet', include_top=True)#ResNet50\n",
        "\n",
        "#model = tf.keras.applications.ResNet50V2 (weights='imagenet')#ResNet50\n",
        "model = tf.keras.applications.ResNet50V2 (weights=None)#ResNet50\n",
        "\n",
        "\n",
        "\n",
        "\n",
        "model.summary()"
      ],
      "execution_count": null,
      "outputs": []
    },
    {
      "cell_type": "markdown",
      "metadata": {
        "id": "P3odqfHP4M67"
      },
      "source": [
        "### 모델 컴파일과 훈련하기"
      ]
    },
    {
      "cell_type": "code",
      "metadata": {
        "id": "MdDzI75PUXrG"
      },
      "source": [
        "model.compile(optimizer='adam',\n",
        "              loss='sparse_categorical_crossentropy',\n",
        "              metrics=['accuracy'])\n",
        "\n"
      ],
      "execution_count": null,
      "outputs": []
    },
    {
      "cell_type": "markdown",
      "metadata": {
        "id": "jKgyC5K_4O0d"
      },
      "source": [
        "### 모델 평가"
      ]
    },
    {
      "cell_type": "code",
      "metadata": {
        "id": "gtyDF0MKUcM7"
      },
      "source": [
        "model.fit(train_images,  train_labels, epochs=3, validation_data=(test_images, test_labels))\n"
      ],
      "execution_count": null,
      "outputs": []
    }
  ]
}