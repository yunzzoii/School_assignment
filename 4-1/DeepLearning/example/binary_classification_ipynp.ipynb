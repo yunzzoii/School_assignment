{
  "cells": [
    {
      "cell_type": "code",
      "execution_count": 3,
      "metadata": {
        "id": "LUlusPq7ft2d"
      },
      "outputs": [],
      "source": [
        "import tensorflow as tf\n",
        "import random\n",
        "import math\n",
        "import numpy as np"
      ]
    },
    {
      "cell_type": "code",
      "execution_count": 4,
      "metadata": {
        "colab": {
          "base_uri": "https://localhost:8080/"
        },
        "id": "7FP5258xjs-v",
        "outputId": "bce3eebb-0408-4404-d79b-2d76bf9a2ade"
      },
      "outputs": [
        {
          "output_type": "stream",
          "name": "stdout",
          "text": [
            "(10000, 1) (10000, 1)\n"
          ]
        }
      ],
      "source": [
        "\n",
        "\n",
        "x_train = []\n",
        "y_train = []\n",
        "\n",
        "m = 10000\n",
        "for i in range(m):\n",
        "  degree_value = random.uniform(0, 360)\n",
        "  cosine_value = math.cos(math.radians(degree_value))\n",
        "  \n",
        "  x_train.append(np.reshape(degree_value, (1,1)))#reshape\n",
        "  if cosine_value > 0 :\n",
        "    y_train.append(np.ones((1,1)))\n",
        "  else:\n",
        "    y_train.append(np.zeros((1,1)))\n",
        "\n",
        "#reshape\n",
        "x_train = np.concatenate(x_train, axis=0)\n",
        "y_train = np.concatenate(y_train, axis=0)\n",
        "print(x_train.shape, y_train.shape)\n",
        "\n",
        "#x_test, y_test\n",
        "\n",
        "x_test = []\n",
        "y_test = []\n",
        "\n",
        "m = 1000\n",
        "for i in range(m):\n",
        "  degree_value = random.uniform(0, 360)\n",
        "  cosine_value = math.cos(math.radians(degree_value))\n",
        "  \n",
        "  x_test.append(np.reshape(degree_value, (1,1)))\n",
        "  if cosine_value > 0 :\n",
        "    y_test.append(np.ones((1,1)))\n",
        "  else:\n",
        "    y_test.append(np.zeros((1,1)))\n",
        "\n",
        "\n",
        "x_test = np.concatenate(x_test, axis=0)\n",
        "y_test = np.concatenate(y_test, axis=0)\n",
        "#print(x_test.shape, y_test.shape, y_test)"
      ]
    },
    {
      "cell_type": "code",
      "execution_count": 10,
      "metadata": {
        "colab": {
          "base_uri": "https://localhost:8080/"
        },
        "id": "nWiYAPEugkz5",
        "outputId": "20dab28a-44aa-4592-b58c-70ab7950eb41"
      },
      "outputs": [
        {
          "output_type": "stream",
          "name": "stdout",
          "text": [
            "Model: \"sequential_1\"\n",
            "_________________________________________________________________\n",
            " Layer (type)                Output Shape              Param #   \n",
            "=================================================================\n",
            " dense_2 (Dense)             (None, 2)                 4         \n",
            "                                                                 \n",
            " dense_3 (Dense)             (None, 1)                 3         \n",
            "                                                                 \n",
            "=================================================================\n",
            "Total params: 7\n",
            "Trainable params: 7\n",
            "Non-trainable params: 0\n",
            "_________________________________________________________________\n"
          ]
        }
      ],
      "source": [
        "model = tf.keras.models.Sequential([\n",
        "  tf.keras.Input(shape=(1,)),\n",
        "  tf.keras.layers.Dense(2, activation='sigmoid'),\n",
        "  tf.keras.layers.Dense(1, activation='sigmoid'),\n",
        "])\n",
        "\n",
        "model.summary()\n",
        "\n",
        "model.compile(optimizer=tf.keras.optimizers.Adam(learning_rate=1e-3),\n",
        "              #loss='sparse_categorical_crossentropy',\n",
        "              loss = 'BinaryCrossentropy',\n",
        "              metrics=['accuracy'])\n",
        "\n"
      ]
    },
    {
      "cell_type": "code",
      "execution_count": 17,
      "metadata": {
        "colab": {
          "base_uri": "https://localhost:8080/"
        },
        "id": "F7dTAzgHDUh7",
        "outputId": "9e0f5104-0c7a-47a2-82b0-9de4250bed32"
      },
      "outputs": [
        {
          "output_type": "stream",
          "name": "stdout",
          "text": [
            "Epoch 1/10\n",
            "313/313 - 1s - loss: 0.5063 - accuracy: 0.7443 - val_loss: 0.5169 - val_accuracy: 0.7200 - 507ms/epoch - 2ms/step\n",
            "Epoch 2/10\n",
            "313/313 - 1s - loss: 0.5058 - accuracy: 0.7436 - val_loss: 0.5162 - val_accuracy: 0.7250 - 612ms/epoch - 2ms/step\n",
            "Epoch 3/10\n",
            "313/313 - 1s - loss: 0.5054 - accuracy: 0.7443 - val_loss: 0.5163 - val_accuracy: 0.7330 - 565ms/epoch - 2ms/step\n",
            "Epoch 4/10\n",
            "313/313 - 0s - loss: 0.5048 - accuracy: 0.7444 - val_loss: 0.5175 - val_accuracy: 0.7360 - 496ms/epoch - 2ms/step\n",
            "Epoch 5/10\n",
            "313/313 - 1s - loss: 0.5043 - accuracy: 0.7450 - val_loss: 0.5150 - val_accuracy: 0.7310 - 584ms/epoch - 2ms/step\n",
            "Epoch 6/10\n",
            "313/313 - 1s - loss: 0.5037 - accuracy: 0.7449 - val_loss: 0.5142 - val_accuracy: 0.7200 - 573ms/epoch - 2ms/step\n",
            "Epoch 7/10\n",
            "313/313 - 0s - loss: 0.5033 - accuracy: 0.7457 - val_loss: 0.5138 - val_accuracy: 0.7310 - 473ms/epoch - 2ms/step\n",
            "Epoch 8/10\n",
            "313/313 - 0s - loss: 0.5029 - accuracy: 0.7453 - val_loss: 0.5151 - val_accuracy: 0.7360 - 485ms/epoch - 2ms/step\n",
            "Epoch 9/10\n",
            "313/313 - 1s - loss: 0.5023 - accuracy: 0.7461 - val_loss: 0.5133 - val_accuracy: 0.7170 - 551ms/epoch - 2ms/step\n",
            "Epoch 10/10\n",
            "313/313 - 1s - loss: 0.5019 - accuracy: 0.7445 - val_loss: 0.5123 - val_accuracy: 0.7310 - 550ms/epoch - 2ms/step\n"
          ]
        }
      ],
      "source": [
        "model.fit(x_train, y_train, epochs=10, verbose = 2, validation_data=(x_test, y_test))\n",
        "weights = model.get_weights()\n",
        "#print(weights)\n",
        "#model.evaluate(x_test,  y_test, verbose=2)"
      ]
    },
    {
      "cell_type": "code",
      "source": [
        "print(math.radians(0))\n",
        "print(math.radians(90))\n",
        "print(math.radians(180))\n",
        "print(math.radians(270))\n",
        "print(math.radians(360))"
      ],
      "metadata": {
        "colab": {
          "base_uri": "https://localhost:8080/"
        },
        "id": "gIdEeaa6us0W",
        "outputId": "141b5043-5749-4532-bd59-e57ff44e27ad"
      },
      "execution_count": 10,
      "outputs": [
        {
          "output_type": "stream",
          "name": "stdout",
          "text": [
            "0.0\n",
            "1.5707963267948966\n",
            "3.141592653589793\n",
            "4.71238898038469\n",
            "6.283185307179586\n"
          ]
        }
      ]
    }
  ],
  "metadata": {
    "colab": {
      "collapsed_sections": [],
      "name": "binary_classification.ipynp",
      "provenance": []
    },
    "kernelspec": {
      "display_name": "Python 3",
      "name": "python3"
    }
  },
  "nbformat": 4,
  "nbformat_minor": 0
}