{
 "cells": [
  {
   "cell_type": "code",
   "execution_count": 1,
   "metadata": {},
   "outputs": [],
   "source": [
    "import random\n",
    "import numpy as np\n",
    "import math\n",
    "m = 10000\n",
    "n = 1000"
   ]
  },
  {
   "cell_type": "code",
   "execution_count": 2,
   "metadata": {},
   "outputs": [],
   "source": [
    "def generate_data(m):\n",
    "    X = np.empty((0, 1))\n",
    "    y = np.empty((0, 1))\n",
    "    for i in range(m):\n",
    "        degree_value = random.uniform(0, 360)\n",
    "        sine_value = math.sin(math.radians(degree_value))\n",
    "        X = np.append(X, np.array([[degree_value]]), axis=0)\n",
    "        if sine_value > 0:\n",
    "            y = np.append(y, np.array([[1]]), axis=0)\n",
    "        else:\n",
    "            y = np.append(y, np.array([[0]]), axis=0)\n",
    "    return X, y"
   ]
  },
  {
   "cell_type": "code",
   "execution_count": 3,
   "metadata": {},
   "outputs": [],
   "source": [
    "def sigmoid(x):\n",
    "    return 1 / (1 + np.exp(-x))"
   ]
  },
  {
   "cell_type": "code",
   "execution_count": 4,
   "metadata": {},
   "outputs": [],
   "source": [
    "def logistic_regression(X_train, y_train, m, alpha, epoch):\n",
    "    w1 =  b = 1\n",
    "    W = np.array([[w1]])\n",
    "    for i in range(epoch):\n",
    "        X = np.array([[math.radians(x[0]) for x in X_train]])\n",
    "        Z = np.dot(X.T, W) + b #(10000, 1) (1, 1) -> (10000, 1) \n",
    "        A = sigmoid(Z)\n",
    "        dZ = A - y_train # (10000, 1)\n",
    "        dW = np.dot(X, dZ) / m # (1, 10000) (10000, 1) -> (1, 1)\n",
    "        db = np.sum(dZ) / m\n",
    "\n",
    "        W = W - alpha * dW\n",
    "        b = b - alpha * db\n",
    "        if i % 500 == 0:\n",
    "            print(\"w: \", W[0][0])\n",
    "            print(\"b: \", b)\n",
    "    return W, b"
   ]
  },
  {
   "cell_type": "code",
   "execution_count": 5,
   "metadata": {},
   "outputs": [],
   "source": [
    "def getCost(y_predict, y_test, n):\n",
    "    C = 0\n",
    "    for i, y in enumerate(y_test):\n",
    "        if (y == 1):\n",
    "            C += - y * np.log(y_predict[i])\n",
    "        elif (y == 0):\n",
    "            C += - np.log(1 - y_predict[i])\n",
    "    \n",
    "    C /= n\n",
    "    return C"
   ]
  },
  {
   "cell_type": "code",
   "execution_count": 6,
   "metadata": {},
   "outputs": [],
   "source": [
    "def getAcurracy(y_predict, y_test, n):\n",
    "    y_predict_label = []\n",
    "    accuracy = 0\n",
    "    for i, y_pre in enumerate(y_predict):\n",
    "        if y_pre > 0.5:\n",
    "            y_predict_label.append(1)\n",
    "        else:\n",
    "            y_predict_label.append(0)\n",
    "    for i, y in enumerate(y_test):\n",
    "        if y == y_predict_label[i]:\n",
    "            accuracy += 1\n",
    "    accuracy = accuracy / n * 100\n",
    "    return accuracy\n",
    "    "
   ]
  },
  {
   "cell_type": "code",
   "execution_count": 7,
   "metadata": {},
   "outputs": [],
   "source": [
    "def predict(X_test, y_test, n, W, b):\n",
    "    X = np.array([[math.radians(x[0]) for x in X_test]])\n",
    "    Z = np.dot(X.T, W) + b\n",
    "    A = sigmoid(Z) # (1000, 1)\n",
    "    C = getCost(A, y_test, n)\n",
    "    print(\"Cost: \", C[0])\n",
    "    print(\"Accuracy: \", getAcurracy(A, y_test, n) )"
   ]
  },
  {
   "cell_type": "code",
   "execution_count": 149,
   "metadata": {},
   "outputs": [],
   "source": [
    "np.warnings.filterwarnings('ignore', 'overflow|invalid')"
   ]
  },
  {
   "cell_type": "code",
   "execution_count": 14,
   "metadata": {},
   "outputs": [
    {
     "name": "stdout",
     "output_type": "stream",
     "text": [
      "w:  0.7689416774052523\n",
      "b:  0.9549173475227278\n",
      "Final w:  -0.7396152906978112\n",
      "Final b:  1.7935610750931188\n"
     ]
    }
   ],
   "source": [
    "m = 10000\n",
    "n = 1000\n",
    "X_train, y_train = generate_data(m)\n",
    "X_test, y_test = generate_data(n)\n",
    "W, b = logistic_regression(X_train, y_train, m, alpha=0.1, epoch=100)\n",
    "print(\"Final w: \", W[0][0])\n",
    "print(\"Final b: \", b)"
   ]
  },
  {
   "cell_type": "code",
   "execution_count": 15,
   "metadata": {},
   "outputs": [
    {
     "name": "stdout",
     "output_type": "stream",
     "text": [
      "Cost:  0.335291322347262\n",
      "Accuracy:  89.18\n"
     ]
    }
   ],
   "source": [
    "predict(X_train, y_train, m, W, b)"
   ]
  },
  {
   "cell_type": "code",
   "execution_count": 16,
   "metadata": {},
   "outputs": [
    {
     "name": "stdout",
     "output_type": "stream",
     "text": [
      "Cost:  0.33381040777713566\n",
      "Accuracy:  89.60000000000001\n"
     ]
    }
   ],
   "source": [
    "predict(X_test, y_test, n, W, b)"
   ]
  },
  {
   "cell_type": "code",
   "execution_count": 27,
   "metadata": {},
   "outputs": [
    {
     "name": "stdout",
     "output_type": "stream",
     "text": [
      "w:  0.9746980352896567\n",
      "b:  0.9952047656420694\n",
      "w:  -0.44910400052151433\n",
      "b:  1.2546316659429415\n",
      "w:  -0.5668232483175952\n",
      "b:  1.7434695340313417\n",
      "w:  -0.6717205059138368\n",
      "b:  2.17480967169693\n",
      "w:  -0.7661800220085685\n",
      "b:  2.5599644368739227\n",
      "w:  -0.8520887381533084\n",
      "b:  2.9076265989855394\n",
      "w:  -0.9309159665402623\n",
      "b:  3.224447628324733\n",
      "w:  -1.0038064102846294\n",
      "b:  3.5155532292920424\n",
      "w:  -1.0716592285377653\n",
      "b:  3.784940688986594\n",
      "w:  -1.1351888090368367\n",
      "b:  4.035769789304616\n",
      "Final w:  -1.194853657235049\n",
      "Final b:  4.270117464192129\n"
     ]
    }
   ],
   "source": [
    "m = 10\n",
    "n = 1000\n",
    "X_train, y_train = generate_data(m)\n",
    "X_test, y_test = generate_data(n)\n",
    "W, b = logistic_regression(X_train, y_train, m, alpha=0.01, epoch=5000)\n",
    "print(\"Final w: \", W[0][0])\n",
    "print(\"Final b: \", b)"
   ]
  },
  {
   "cell_type": "code",
   "execution_count": 28,
   "metadata": {},
   "outputs": [
    {
     "name": "stdout",
     "output_type": "stream",
     "text": [
      "Cost:  0.25230486703459365\n",
      "Accuracy:  100.0\n"
     ]
    }
   ],
   "source": [
    "predict(X_train, y_train, m, W, b)"
   ]
  },
  {
   "cell_type": "code",
   "execution_count": 29,
   "metadata": {},
   "outputs": [
    {
     "name": "stdout",
     "output_type": "stream",
     "text": [
      "Cost:  0.2265240766212547\n",
      "Accuracy:  93.2\n"
     ]
    }
   ],
   "source": [
    "predict(X_test, y_test, n, W, b)"
   ]
  },
  {
   "cell_type": "code",
   "execution_count": 24,
   "metadata": {},
   "outputs": [
    {
     "name": "stdout",
     "output_type": "stream",
     "text": [
      "w:  0.9798873614642685\n",
      "b:  0.9961603547565014\n",
      "w:  -0.5745416944143515\n",
      "b:  1.3408475933992472\n",
      "w:  -0.731441362897094\n",
      "b:  1.8880556469188954\n",
      "w:  -0.8607967107413348\n",
      "b:  2.3318299954403954\n",
      "w:  -0.9707111433308394\n",
      "b:  2.7045932022518184\n",
      "w:  -1.0663581912269076\n",
      "b:  3.0262285771305506\n",
      "w:  -1.15115543121225\n",
      "b:  3.309518288895236\n",
      "w:  -1.2274480358111\n",
      "b:  3.563068074828632\n",
      "w:  -1.2969037050183365\n",
      "b:  3.79291097942511\n",
      "w:  -1.3607461077964098\n",
      "b:  4.003424423800697\n",
      "Final w:  -1.4197835552458962\n",
      "Final b:  4.197503674131697\n"
     ]
    }
   ],
   "source": [
    "m = 100\n",
    "n = 1000\n",
    "X_train, y_train = generate_data(m)\n",
    "X_test, y_test = generate_data(n)\n",
    "W, b = logistic_regression(X_train, y_train, m, alpha=0.01, epoch=5000)\n",
    "print(\"Final w: \", W[0][0])\n",
    "print(\"Final b: \", b)"
   ]
  },
  {
   "cell_type": "code",
   "execution_count": 25,
   "metadata": {},
   "outputs": [
    {
     "name": "stdout",
     "output_type": "stream",
     "text": [
      "Cost:  0.17333674847497124\n",
      "Accuracy:  100.0\n"
     ]
    }
   ],
   "source": [
    "predict(X_train, y_train, m, W, b)"
   ]
  },
  {
   "cell_type": "code",
   "execution_count": 26,
   "metadata": {},
   "outputs": [
    {
     "name": "stdout",
     "output_type": "stream",
     "text": [
      "Cost:  0.1928189732572283\n",
      "Accuracy:  96.8\n"
     ]
    }
   ],
   "source": [
    "predict(X_test, y_test, n, W, b)"
   ]
  },
  {
   "cell_type": "code",
   "execution_count": 30,
   "metadata": {},
   "outputs": [
    {
     "name": "stdout",
     "output_type": "stream",
     "text": [
      "w:  0.9770865728577526\n",
      "b:  0.9955377997432042\n",
      "w:  -0.5933867989352682\n",
      "b:  1.284311870029503\n",
      "w:  -0.7359844140273556\n",
      "b:  1.7956028574537968\n",
      "w:  -0.8553925414016155\n",
      "b:  2.216768744115249\n",
      "w:  -0.9580078338835621\n",
      "b:  2.5744564481096184\n",
      "w:  -1.0480717499991976\n",
      "b:  2.8855985388323924\n",
      "w:  -1.128462185417433\n",
      "b:  3.1613617002914216\n",
      "w:  -1.2011923934669635\n",
      "b:  3.4094057865448737\n",
      "w:  -1.2677146550698322\n",
      "b:  3.6351768820566845\n",
      "w:  -1.3291063244209402\n",
      "b:  3.8426699690354456\n",
      "Final w:  -1.3860763092032147\n",
      "Final b:  4.034524574036561\n"
     ]
    }
   ],
   "source": [
    "m = 10000\n",
    "n = 1000\n",
    "X_train, y_train = generate_data(m)\n",
    "X_test, y_test = generate_data(n)\n",
    "W, b = logistic_regression(X_train, y_train, m, alpha=0.01, epoch=5000)\n",
    "print(\"Final w: \", W[0][0])\n",
    "print(\"Final b: \", b)"
   ]
  },
  {
   "cell_type": "code",
   "execution_count": 31,
   "metadata": {},
   "outputs": [
    {
     "name": "stdout",
     "output_type": "stream",
     "text": [
      "Cost:  0.1914401914980944\n",
      "Accuracy:  96.02000000000001\n"
     ]
    }
   ],
   "source": [
    "predict(X_train, y_train, m, W, b)"
   ]
  },
  {
   "cell_type": "code",
   "execution_count": 32,
   "metadata": {},
   "outputs": [
    {
     "name": "stdout",
     "output_type": "stream",
     "text": [
      "Cost:  0.19063912452908863\n",
      "Accuracy:  95.8\n"
     ]
    }
   ],
   "source": [
    "predict(X_test, y_test, n, W, b)"
   ]
  },
  {
   "cell_type": "code",
   "execution_count": 204,
   "metadata": {},
   "outputs": [
    {
     "name": "stdout",
     "output_type": "stream",
     "text": [
      "w:  -0.3281298645066002\n",
      "b:  0.9954664541278783\n",
      "Final w:  -0.5379184964089404\n",
      "Final b:  1.0067510166129767\n"
     ]
    }
   ],
   "source": [
    "#epoch = 10\n",
    "m = 10000\n",
    "n = 1000\n",
    "X_train, y_train = generate_data(m)\n",
    "X_test, y_test = generate_data(n)\n",
    "W, b = logistic_regression(X_train, y_train, m, alpha=0.01, epoch=10)\n",
    "print(\"Final w: \", W[0][0])\n",
    "print(\"Final b: \", b)"
   ]
  },
  {
   "cell_type": "code",
   "execution_count": 205,
   "metadata": {},
   "outputs": [
    {
     "name": "stdout",
     "output_type": "stream",
     "text": [
      "Cost:  0.42814169541919284\n",
      "Accuracy:  79.67999999999999\n"
     ]
    }
   ],
   "source": [
    "predict(X_train, y_train, m, W, b)"
   ]
  },
  {
   "cell_type": "code",
   "execution_count": 206,
   "metadata": {},
   "outputs": [
    {
     "name": "stdout",
     "output_type": "stream",
     "text": [
      "Cost:  0.43732010765095364\n",
      "Accuracy:  79.10000000000001\n"
     ]
    }
   ],
   "source": [
    "predict(X_test, y_test, n, W, b)"
   ]
  },
  {
   "cell_type": "code",
   "execution_count": 207,
   "metadata": {},
   "outputs": [
    {
     "name": "stdout",
     "output_type": "stream",
     "text": [
      "w:  -0.3360892172087935\n",
      "b:  0.9954549328093518\n",
      "Final w:  -0.571503439098587\n",
      "Final b:  1.1255573188260224\n"
     ]
    }
   ],
   "source": [
    "#epoch = 100\n",
    "m = 10000\n",
    "n = 1000\n",
    "X_train, y_train = generate_data(m)\n",
    "X_test, y_test = generate_data(n)\n",
    "W, b = logistic_regression(X_train, y_train, m, alpha=0.01, epoch=100)\n",
    "print(\"Final w: \", W[0][0])\n",
    "print(\"Final b: \", b)"
   ]
  },
  {
   "cell_type": "code",
   "execution_count": 208,
   "metadata": {},
   "outputs": [
    {
     "name": "stdout",
     "output_type": "stream",
     "text": [
      "Cost:  0.41040400731752563\n",
      "Accuracy:  81.67\n"
     ]
    }
   ],
   "source": [
    "predict(X_train, y_train, m, W, b)"
   ]
  },
  {
   "cell_type": "code",
   "execution_count": 209,
   "metadata": {},
   "outputs": [
    {
     "name": "stdout",
     "output_type": "stream",
     "text": [
      "Cost:  0.40747917148228874\n",
      "Accuracy:  82.69999999999999\n"
     ]
    }
   ],
   "source": [
    "predict(X_test, y_test, n, W, b)"
   ]
  },
  {
   "cell_type": "code",
   "execution_count": 198,
   "metadata": {},
   "outputs": [
    {
     "name": "stdout",
     "output_type": "stream",
     "text": [
      "w:  -0.33455065034884846\n",
      "b:  0.9954670358574191\n",
      "w:  -0.6947064510450484\n",
      "b:  1.5965829988303408\n",
      "w:  -0.8291573326811873\n",
      "b:  2.0808907308614994\n",
      "w:  -0.942970792792679\n",
      "b:  2.4846876609254216\n",
      "w:  -1.0417014202190258\n",
      "b:  2.8310340101571922\n",
      "w:  -1.1290337213177557\n",
      "b:  3.1347001728075212\n",
      "w:  -1.2074862527013843\n",
      "b:  3.4055463927837017\n",
      "w:  -1.2788386808857204\n",
      "b:  3.650420786502529\n",
      "w:  -1.344388056535414\n",
      "b:  3.8742482583179076\n",
      "w:  -1.4051059287906322\n",
      "b:  4.080678423284933\n",
      "Final w:  -1.4616279949210051\n",
      "Final b:  4.272115613229459\n"
     ]
    }
   ],
   "source": [
    "#epoch = 5000\n",
    "m = 10000\n",
    "n = 1000\n",
    "X_train, y_train = generate_data(m)\n",
    "X_test, y_test = generate_data(n)\n",
    "W, b = logistic_regression(X_train, y_train, m, alpha=0.01, epoch=5000)\n",
    "print(\"Final w: \", W[0][0])\n",
    "print(\"Final b: \", b)"
   ]
  },
  {
   "cell_type": "code",
   "execution_count": 199,
   "metadata": {},
   "outputs": [
    {
     "name": "stdout",
     "output_type": "stream",
     "text": [
      "Cost:  0.1820840216889163\n",
      "Accuracy:  96.19\n"
     ]
    }
   ],
   "source": [
    "predict(X_train, y_train, m, W, b)"
   ]
  },
  {
   "cell_type": "code",
   "execution_count": 200,
   "metadata": {},
   "outputs": [
    {
     "name": "stdout",
     "output_type": "stream",
     "text": [
      "Cost:  0.17627597335633782\n",
      "Accuracy:  97.2\n"
     ]
    }
   ],
   "source": [
    "predict(X_test, y_test, n, W, b)"
   ]
  },
  {
   "cell_type": "code",
   "execution_count": 238,
   "metadata": {},
   "outputs": [
    {
     "name": "stdout",
     "output_type": "stream",
     "text": [
      "w:  -12.305514296132475\n",
      "b:  0.9545344136177253\n",
      "w:  -6.1011632654194345\n",
      "b:  8.13131032272005\n",
      "w:  -2.6846260088138383\n",
      "b:  10.314520642556154\n",
      "w:  -3.0852405832418746\n",
      "b:  11.68694038127966\n",
      "w:  -3.451661464413716\n",
      "b:  12.600559658027882\n",
      "w:  -3.745859314458934\n",
      "b:  13.208698024507001\n",
      "w:  -4.000471849460367\n",
      "b:  13.625786489831688\n",
      "w:  -4.257059332815904\n",
      "b:  13.917407326836583\n",
      "w:  -4.539305648600679\n",
      "b:  14.133852763130859\n",
      "w:  -4.6100901791405215\n",
      "b:  14.33503409893575\n",
      "Final w:  -4.6719332556577395\n",
      "Final b:  14.530486117139274\n"
     ]
    }
   ],
   "source": [
    "#alpha = 0.1\n",
    "m = 10000\n",
    "n = 1000\n",
    "X_train, y_train = generate_data(m)\n",
    "X_test, y_test = generate_data(n)\n",
    "W, b = logistic_regression(X_train, y_train, m, alpha=0.1, epoch=5000)\n",
    "print(\"Final w: \", W[0][0])\n",
    "print(\"Final b: \", b)"
   ]
  },
  {
   "cell_type": "code",
   "execution_count": 239,
   "metadata": {},
   "outputs": [
    {
     "name": "stdout",
     "output_type": "stream",
     "text": [
      "Cost:  0.05665583551136608\n",
      "Accuracy:  99.4\n"
     ]
    }
   ],
   "source": [
    "predict(X_test, y_test, n, W, b)"
   ]
  },
  {
   "cell_type": "code",
   "execution_count": 236,
   "metadata": {},
   "outputs": [
    {
     "name": "stdout",
     "output_type": "stream",
     "text": [
      "w:  -38.87467390342478\n",
      "b:  0.8638245098962052\n",
      "w:  -6.426286242958813\n",
      "b:  24.683719565475233\n",
      "w:  -11.410310350617813\n",
      "b:  30.75996297476657\n",
      "w:  -16.105947828756474\n",
      "b:  34.32211515466326\n",
      "w:  -15.821112667792148\n",
      "b:  36.912517646320005\n",
      "w:  -15.405911154996815\n",
      "b:  38.64870222627388\n",
      "w:  -14.790588847335705\n",
      "b:  39.70098755436422\n",
      "w:  -14.376224494981194\n",
      "b:  40.277422847248054\n",
      "w:  -14.177359254361276\n",
      "b:  40.6511136865005\n",
      "w:  -14.050926542081601\n",
      "b:  40.92536600752781\n",
      "Final w:  -12.43600315543482\n",
      "Final b:  41.14755762608738\n"
     ]
    }
   ],
   "source": [
    "#alpha = 0.3\n",
    "m = 10000\n",
    "n = 1000\n",
    "X_train, y_train = generate_data(m)\n",
    "X_test, y_test = generate_data(n)\n",
    "W, b = logistic_regression(X_train, y_train, m, alpha=0.3, epoch=5000)\n",
    "print(\"Final w: \", W[0][0])\n",
    "print(\"Final b: \", b)"
   ]
  },
  {
   "cell_type": "code",
   "execution_count": 237,
   "metadata": {},
   "outputs": [
    {
     "name": "stdout",
     "output_type": "stream",
     "text": [
      "Cost:  0.06122744213148597\n",
      "Accuracy:  96.3\n"
     ]
    }
   ],
   "source": [
    "predict(X_test, y_test, n, W, b)"
   ]
  },
  {
   "cell_type": "code",
   "execution_count": 232,
   "metadata": {},
   "outputs": [
    {
     "name": "stdout",
     "output_type": "stream",
     "text": [
      "w:  -5.5899861117407825\n",
      "b:  0.9777438043364036\n",
      "w:  -3.035504864191564\n",
      "b:  4.217710245463215\n",
      "w:  -1.4945347603100192\n",
      "b:  5.51020233066708\n",
      "w:  -1.8321308087780304\n",
      "b:  6.2888859659732175\n",
      "w:  -2.221401031434105\n",
      "b:  6.77324453983003\n",
      "w:  -2.344419478543887\n",
      "b:  7.169604876083751\n",
      "w:  -2.4550581381146612\n",
      "b:  7.528103824866405\n",
      "w:  -2.5566382134150842\n",
      "b:  7.856471101482578\n",
      "w:  -2.650787352897734\n",
      "b:  8.160217442834446\n",
      "w:  -2.738714528039706\n",
      "b:  8.443417084489806\n",
      "Final w:  -2.821183833813413\n",
      "Final b:  8.708657596812749\n"
     ]
    }
   ],
   "source": [
    "#alpha = 0.05\n",
    "m = 10000\n",
    "n = 1000\n",
    "X_train, y_train = generate_data(m)\n",
    "X_test, y_test = generate_data(n)\n",
    "W, b = logistic_regression(X_train, y_train, m, alpha=0.05, epoch=5000)\n",
    "print(\"Final w: \", W[0][0])\n",
    "print(\"Final b: \", b)"
   ]
  },
  {
   "cell_type": "code",
   "execution_count": 233,
   "metadata": {},
   "outputs": [
    {
     "name": "stdout",
     "output_type": "stream",
     "text": [
      "Cost:  0.09069277269712503\n",
      "Accuracy:  98.8\n"
     ]
    }
   ],
   "source": [
    "predict(X_test, y_test, n, W, b)"
   ]
  },
  {
   "cell_type": "code",
   "execution_count": 234,
   "metadata": {},
   "outputs": [
    {
     "name": "stdout",
     "output_type": "stream",
     "text": [
      "w:  -66.02214645032048\n",
      "b:  0.7713130019439223\n",
      "w:  -52.18142245584711\n",
      "b:  36.964511136161086\n",
      "w:  -13.07085391426988\n",
      "b:  49.30179865768299\n",
      "w:  -24.424464728351488\n",
      "b:  54.589294339316076\n",
      "w:  -25.627754224946884\n",
      "b:  58.92447148157176\n",
      "w:  -25.32026163089619\n",
      "b:  61.92742892094452\n",
      "w:  -24.90808121683102\n",
      "b:  64.05906960377578\n",
      "w:  -24.36454098538479\n",
      "b:  65.52664638863122\n",
      "w:  -23.64503648746568\n",
      "b:  66.40256479647101\n",
      "w:  -23.19512441309936\n",
      "b:  66.91172883471243\n",
      "Final w:  -20.17561770277565\n",
      "Final b:  67.26994704073519\n"
     ]
    }
   ],
   "source": [
    "#alpha = 0.5\n",
    "m = 10000\n",
    "n = 1000\n",
    "X_train, y_train = generate_data(m)\n",
    "X_test, y_test = generate_data(n)\n",
    "W, b = logistic_regression(X_train, y_train, m, alpha=0.5, epoch=5000)\n",
    "print(\"Final w: \", W[0][0])\n",
    "print(\"Final b: \", b)"
   ]
  },
  {
   "cell_type": "code",
   "execution_count": 235,
   "metadata": {},
   "outputs": [
    {
     "name": "stdout",
     "output_type": "stream",
     "text": [
      "Cost:  0.06270382192026319\n",
      "Accuracy:  97.39999999999999\n"
     ]
    }
   ],
   "source": [
    "predict(X_test, y_test, n, W, b)"
   ]
  },
  {
   "cell_type": "code",
   "execution_count": 240,
   "metadata": {},
   "outputs": [
    {
     "name": "stdout",
     "output_type": "stream",
     "text": [
      "w:  -0.3222973972816978\n",
      "b:  0.9954987941248266\n",
      "w:  -0.6973936080714765\n",
      "b:  1.598488364969106\n",
      "w:  -0.8328946541680728\n",
      "b:  2.083718315963297\n",
      "w:  -0.9475542671117012\n",
      "b:  2.487993996535153\n",
      "w:  -1.047009224361587\n",
      "b:  2.8346192570849906\n",
      "w:  -1.1349861782084394\n",
      "b:  3.138472101306968\n",
      "w:  -1.2140267027628202\n",
      "b:  3.409461916751689\n",
      "w:  -1.285923930685663\n",
      "b:  3.6544597718573018\n",
      "w:  -1.3519833370554273\n",
      "b:  3.8784013083102407\n",
      "w:  -1.4131820810361306\n",
      "b:  4.084941006781671\n",
      "Final w:  -1.470158924614616\n",
      "Final b:  4.276484983376888\n"
     ]
    }
   ],
   "source": [
    "#alpha = 0.01\n",
    "m = 10000\n",
    "n = 1000\n",
    "X_train, y_train = generate_data(m)\n",
    "X_test, y_test = generate_data(n)\n",
    "W, b = logistic_regression(X_train, y_train, m, alpha=0.01, epoch=5000)\n",
    "print(\"Final w: \", W[0][0])\n",
    "print(\"Final b: \", b)"
   ]
  },
  {
   "cell_type": "code",
   "execution_count": 241,
   "metadata": {},
   "outputs": [
    {
     "name": "stdout",
     "output_type": "stream",
     "text": [
      "Cost:  0.18639207744429828\n",
      "Accuracy:  96.3\n"
     ]
    }
   ],
   "source": [
    "predict(X_test, y_test, n, W, b)"
   ]
  },
  {
   "cell_type": "code",
   "execution_count": null,
   "metadata": {},
   "outputs": [],
   "source": []
  }
 ],
 "metadata": {
  "interpreter": {
   "hash": "03e30155a8bc2aebd4337705006146e77759413953328d6ea8a447f30ad5fd64"
  },
  "kernelspec": {
   "display_name": "Python 3.8.8 64-bit ('base': conda)",
   "language": "python",
   "name": "python3"
  },
  "language_info": {
   "codemirror_mode": {
    "name": "ipython",
    "version": 3
   },
   "file_extension": ".py",
   "mimetype": "text/x-python",
   "name": "python",
   "nbconvert_exporter": "python",
   "pygments_lexer": "ipython3",
   "version": "3.10.4"
  },
  "orig_nbformat": 4
 },
 "nbformat": 4,
 "nbformat_minor": 2
}
