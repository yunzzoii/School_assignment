{
 "cells": [
  {
   "cell_type": "code",
   "execution_count": 1,
   "metadata": {},
   "outputs": [],
   "source": [
    "import random\n",
    "import numpy as np\n",
    "m = 10000\n",
    "n = 1000"
   ]
  },
  {
   "cell_type": "code",
   "execution_count": 2,
   "metadata": {},
   "outputs": [],
   "source": [
    "def generate_data(m):\n",
    "    X = np.empty((0, 2))\n",
    "    y = np.empty((0, 1))\n",
    "    for i in range(m):\n",
    "        x1 = random.uniform(-10, 10)\n",
    "        x2 = random.uniform(-10, 10)\n",
    "        X = np.append(X, np.array([[x1, x2]]), axis=0)\n",
    "        if x1 + x2 > 0:\n",
    "            y = np.append(y, np.array([[1]]), axis=0)\n",
    "        else:\n",
    "            y = np.append(y, np.array([[0]]), axis=0)\n",
    "    return X, y"
   ]
  },
  {
   "cell_type": "code",
   "execution_count": 3,
   "metadata": {},
   "outputs": [],
   "source": [
    "def sigmoid(x):\n",
    "    return 1 / (1 + np.exp(-x))"
   ]
  },
  {
   "cell_type": "code",
   "execution_count": 4,
   "metadata": {},
   "outputs": [],
   "source": [
    "def logistic_regression(X_train, y_train, m, alpha, epoch):\n",
    "    w1 = w2 = b = 1\n",
    "    W = np.array([[w1, w2]])\n",
    "    for i in range(epoch):\n",
    "        Z = np.dot(X_train, W.T) + b #(10000, 2) (2, 1) -> (10000, 1)\n",
    "        A = sigmoid(Z)\n",
    "        dZ = A - y_train # (10000, 1)\n",
    "        dW = np.dot(dZ.T, X_train) / m # (1, 10000) (10000, 2) -> (1, 2)\n",
    "        db = np.sum(dZ) / m\n",
    "\n",
    "        W = W - alpha * dW\n",
    "        b = b - alpha * db\n",
    "        if i % 500 == 0:\n",
    "            print(\"w1: \", W[0][0], \"w2: \", W[0][1])\n",
    "            print(\"b: \", b)\n",
    "    return W, b"
   ]
  },
  {
   "cell_type": "code",
   "execution_count": 5,
   "metadata": {},
   "outputs": [],
   "source": [
    "def getCost(y_predict, y_test, n):\n",
    "    C = 0\n",
    "    for i, y in enumerate(y_test):\n",
    "        if (y == 1):\n",
    "            C += - y * np.log(y_predict[i])\n",
    "        elif (y == 0):\n",
    "            C += - np.log(1 - y_predict[i])\n",
    "    \n",
    "    C /= n\n",
    "    return C"
   ]
  },
  {
   "cell_type": "code",
   "execution_count": 6,
   "metadata": {},
   "outputs": [],
   "source": [
    "def getAcurracy(y_predict, y_test, n):\n",
    "    y_predict_label = []\n",
    "    accuracy = 0\n",
    "    for i, y_pre in enumerate(y_predict):\n",
    "        if y_pre > 0.5:\n",
    "            y_predict_label.append(1)\n",
    "        else:\n",
    "            y_predict_label.append(0)\n",
    "    for i, y in enumerate(y_test):\n",
    "        if y == y_predict_label[i]:\n",
    "            accuracy += 1\n",
    "    accuracy = accuracy / n * 100\n",
    "    return accuracy\n",
    "    "
   ]
  },
  {
   "cell_type": "code",
   "execution_count": 7,
   "metadata": {},
   "outputs": [],
   "source": [
    "def predict(X_test, y_test, n, W, b):\n",
    "    Z = np.dot(X_test, W.T) + b # (1000, 2), (2, 1)\n",
    "    A = sigmoid(Z) # (1000, 1)\n",
    "    C = getCost(A, y_test, n)\n",
    "    print(\"Cost: \", C[0])\n",
    "    print(\"Accuracy: \", getAcurracy(A, y_test, n) )"
   ]
  },
  {
   "cell_type": "code",
   "execution_count": 129,
   "metadata": {},
   "outputs": [
    {
     "name": "stdout",
     "output_type": "stream",
     "text": [
      "w1:  1.0050158640493385 w2:  1.0046840573708926\n",
      "b:  0.9950238884395437\n",
      "w1:  1.9504910347852724 w2:  1.9481738596795968\n",
      "b:  0.16315505846963688\n",
      "w1:  2.3858591060012717 w2:  2.3835948913281575\n",
      "b:  0.01859043913069043\n",
      "w1:  2.7044174058602475 w2:  2.70256939304652\n",
      "b:  -0.02496186537297482\n",
      "w1:  2.9628192234211084 w2:  2.961397730566528\n",
      "b:  -0.04191950934629566\n",
      "w1:  3.1832431805547037 w2:  3.1821962383517493\n",
      "b:  -0.05014424518421633\n",
      "w1:  3.3770917784373737 w2:  3.3763640708367464\n",
      "b:  -0.05505579358781318\n",
      "w1:  3.5511138411949066 w2:  3.5506580287026726\n",
      "b:  -0.058548488180282264\n",
      "w1:  3.7096764267706237 w2:  3.7094539101638095\n",
      "b:  -0.061355613032638645\n",
      "w1:  3.8557874555662894 w2:  3.855766974627666\n",
      "b:  -0.06378596185922192\n",
      "Final w1:  3.99135462096112 Final w2:  3.9915103597296757\n",
      "Final b:  -0.06597601283131672\n"
     ]
    }
   ],
   "source": [
    "m = 10000\n",
    "n = 1000\n",
    "X_train, y_train = generate_data(m)\n",
    "X_test, y_test = generate_data(n)\n",
    "W, b = logistic_regression(X_train, y_train, m, alpha=0.1, epoch=5000)\n",
    "print(\"Final w1: \", W[0][0], \"Final w2: \", W[0][1])\n",
    "print(\"Final b: \", b)"
   ]
  },
  {
   "cell_type": "code",
   "execution_count": 130,
   "metadata": {},
   "outputs": [
    {
     "name": "stdout",
     "output_type": "stream",
     "text": [
      "Cost:  0.021465085551812674\n",
      "Accuracy:  99.86\n"
     ]
    }
   ],
   "source": [
    "predict(X_train, y_train, m, W, b)"
   ]
  },
  {
   "cell_type": "code",
   "execution_count": 131,
   "metadata": {},
   "outputs": [
    {
     "name": "stdout",
     "output_type": "stream",
     "text": [
      "Cost:  0.02095319040526596\n",
      "Accuracy:  99.9\n"
     ]
    }
   ],
   "source": [
    "predict(X_test, y_test, n, W, b)"
   ]
  },
  {
   "cell_type": "code",
   "execution_count": 132,
   "metadata": {},
   "outputs": [
    {
     "name": "stdout",
     "output_type": "stream",
     "text": [
      "w1:  1.0133210088471556 w2:  0.9955020747090314\n",
      "b:  0.9949865999564564\n",
      "w1:  1.986951885664065 w2:  1.4642086687794353\n",
      "b:  0.3089039725181401\n",
      "w1:  2.27515833675272 w2:  1.6983573098103604\n",
      "b:  0.07039353068339117\n",
      "w1:  2.4515747910317884 w2:  1.8424404148241795\n",
      "b:  -0.07629190779049543\n",
      "w1:  2.578640879196745 w2:  1.9464666162428461\n",
      "b:  -0.18213679915654435\n",
      "w1:  2.6778873888264427 w2:  2.027828850410922\n",
      "b:  -0.26488800398290974\n",
      "w1:  2.759282993448747 w2:  2.0946161331383277\n",
      "b:  -0.3327955350996868\n",
      "w1:  2.8282561139423383 w2:  2.151245620335342\n",
      "b:  -0.3903621976448882\n",
      "w1:  2.8880880258654846 w2:  2.2003924301909286\n",
      "b:  -0.44031378409155003\n",
      "w1:  2.9409128821327837 w2:  2.243798904041234\n",
      "b:  -0.4844249883703338\n",
      "Final w1:  2.9881065666158193 Final w2:  2.282589099677776\n",
      "Final b:  -0.5238405498733585\n"
     ]
    }
   ],
   "source": [
    "m = 10\n",
    "n = 1000\n",
    "X_train, y_train = generate_data(m)\n",
    "X_test, y_test = generate_data(n)\n",
    "W, b = logistic_regression(X_train, y_train, m, alpha=0.1, epoch=5000)\n",
    "print(\"Final w1: \", W[0][0], \"Final w2: \", W[0][1])\n",
    "print(\"Final b: \", b)"
   ]
  },
  {
   "cell_type": "code",
   "execution_count": 133,
   "metadata": {},
   "outputs": [
    {
     "name": "stdout",
     "output_type": "stream",
     "text": [
      "Cost:  0.0009584001296777594\n",
      "Accuracy:  100.0\n"
     ]
    }
   ],
   "source": [
    "predict(X_train, y_train, m, W, b)"
   ]
  },
  {
   "cell_type": "code",
   "execution_count": 134,
   "metadata": {},
   "outputs": [
    {
     "name": "stdout",
     "output_type": "stream",
     "text": [
      "Cost:  0.14412792127476914\n",
      "Accuracy:  94.69999999999999\n"
     ]
    }
   ],
   "source": [
    "predict(X_test, y_test, n, W, b)"
   ]
  },
  {
   "cell_type": "code",
   "execution_count": 135,
   "metadata": {},
   "outputs": [
    {
     "name": "stdout",
     "output_type": "stream",
     "text": [
      "w1:  1.007866513356668 w2:  0.9984461548845915\n",
      "b:  0.9991926629404918\n",
      "w1:  1.8643925081941843 w2:  1.7747163630918636\n",
      "b:  0.9861065260272195\n",
      "w1:  2.2940267949818356 w2:  2.1767111058390842\n",
      "b:  1.0915477051917313\n",
      "w1:  2.606008076349253 w2:  2.467871625663443\n",
      "b:  1.191814495679828\n",
      "w1:  2.856164321123623 w2:  2.7012038876423423\n",
      "b:  1.279614712597102\n",
      "w1:  3.0670520272023016 w2:  2.897946239422848\n",
      "b:  1.3564075204227528\n",
      "w1:  3.250416566434836 w2:  3.069094510440232\n",
      "b:  1.4243063969193168\n",
      "w1:  3.413272271406732 w2:  3.2211921324082335\n",
      "b:  1.4850573133818992\n",
      "w1:  3.5601882979859583 w2:  3.3584925426864687\n",
      "b:  1.5399932427845981\n",
      "w1:  3.6943262152267162 w2:  3.4839352952177154\n",
      "b:  1.5901241377614566\n",
      "Final w1:  3.8177353733238717 Final w2:  3.5994229063645484\n",
      "Final b:  1.6361348624644074\n"
     ]
    }
   ],
   "source": [
    "m = 100\n",
    "n = 1000\n",
    "X_train, y_train = generate_data(m)\n",
    "X_test, y_test = generate_data(n)\n",
    "W, b = logistic_regression(X_train, y_train, m, alpha=0.1, epoch=5000)\n",
    "print(\"Final w1: \", W[0][0], \"Final w2: \", W[0][1])\n",
    "print(\"Final b: \", b)"
   ]
  },
  {
   "cell_type": "code",
   "execution_count": 136,
   "metadata": {},
   "outputs": [
    {
     "name": "stdout",
     "output_type": "stream",
     "text": [
      "Cost:  0.016491897332443217\n",
      "Accuracy:  100.0\n"
     ]
    }
   ],
   "source": [
    "predict(X_train, y_train, m, W, b)"
   ]
  },
  {
   "cell_type": "code",
   "execution_count": 137,
   "metadata": {},
   "outputs": [
    {
     "name": "stdout",
     "output_type": "stream",
     "text": [
      "Cost:  0.056890544343576696\n",
      "Accuracy:  97.8\n"
     ]
    }
   ],
   "source": [
    "predict(X_test, y_test, n, W, b)"
   ]
  },
  {
   "cell_type": "code",
   "execution_count": 180,
   "metadata": {},
   "outputs": [
    {
     "name": "stdout",
     "output_type": "stream",
     "text": [
      "w1:  1.0063315893593348 w2:  1.003248183628516\n",
      "b:  0.9952927452631634\n",
      "w1:  1.9445216436035218 w2:  1.9371572197295848\n",
      "b:  0.20705284654549377\n",
      "w1:  2.372949981118904 w2:  2.3665652013907206\n",
      "b:  0.07071334306245322\n",
      "w1:  2.6862021082374836 w2:  2.6801664879529192\n",
      "b:  0.032555762600047715\n",
      "w1:  2.940537184954099 w2:  2.934651599212572\n",
      "b:  0.02053109568425003\n",
      "w1:  3.1578237583077224 w2:  3.152002770080998\n",
      "b:  0.016951925719231077\n",
      "w1:  3.349242529314346 w2:  3.343442287386669\n",
      "b:  0.01638141500982106\n",
      "w1:  3.5213844031693746 w2:  3.5155796011134406\n",
      "b:  0.016923002893755507\n",
      "w1:  3.6785018318469094 w2:  3.6726766645554734\n",
      "b:  0.017861211484757934\n",
      "w1:  3.823517625719268 w2:  3.817661681012643\n",
      "b:  0.018913713823563407\n",
      "Final w1:  3.958276244783336 Final w2:  3.9523824964817313\n",
      "Final b:  0.019965691009181843\n"
     ]
    }
   ],
   "source": [
    "m = 10000\n",
    "n = 1000\n",
    "X_train, y_train = generate_data(m)\n",
    "X_test, y_test = generate_data(n)\n",
    "W, b = logistic_regression(X_train, y_train, m, alpha=0.1, epoch=5000)\n",
    "print(\"Final w1: \", W[0][0], \"Final w2: \", W[0][1])\n",
    "print(\"Final b: \", b)"
   ]
  },
  {
   "cell_type": "code",
   "execution_count": 181,
   "metadata": {},
   "outputs": [
    {
     "name": "stdout",
     "output_type": "stream",
     "text": [
      "Cost:  0.02097648120414138\n",
      "Accuracy:  99.96000000000001\n"
     ]
    }
   ],
   "source": [
    "predict(X_train, y_train, m, W, b)"
   ]
  },
  {
   "cell_type": "code",
   "execution_count": 182,
   "metadata": {},
   "outputs": [
    {
     "name": "stdout",
     "output_type": "stream",
     "text": [
      "Cost:  0.02253936569178261\n",
      "Accuracy:  99.9\n"
     ]
    }
   ],
   "source": [
    "predict(X_test, y_test, n, W, b)"
   ]
  },
  {
   "cell_type": "code",
   "execution_count": 150,
   "metadata": {},
   "outputs": [
    {
     "name": "stdout",
     "output_type": "stream",
     "text": [
      "w1:  1.0052274190210007 w2:  1.0041183966332943\n",
      "b:  0.9953205031526928\n",
      "Final w1:  1.0468213203057017 Final w2:  1.042357094319952\n",
      "Final b:  0.9549680770623518\n"
     ]
    }
   ],
   "source": [
    "#epoch = 10\n",
    "m = 10000\n",
    "n = 1000\n",
    "X_train, y_train = generate_data(m)\n",
    "X_test, y_test = generate_data(n)\n",
    "W, b = logistic_regression(X_train, y_train, m, alpha=0.1, epoch=10)\n",
    "print(\"Final w1: \", W[0][0], \"Final w2: \", W[0][1])\n",
    "print(\"Final b: \", b)"
   ]
  },
  {
   "cell_type": "code",
   "execution_count": 151,
   "metadata": {},
   "outputs": [
    {
     "name": "stdout",
     "output_type": "stream",
     "text": [
      "Cost:  0.0949457670447307\n",
      "Accuracy:  95.55\n"
     ]
    }
   ],
   "source": [
    "predict(X_train, y_train, m, W, b)"
   ]
  },
  {
   "cell_type": "code",
   "execution_count": 152,
   "metadata": {},
   "outputs": [
    {
     "name": "stdout",
     "output_type": "stream",
     "text": [
      "Cost:  0.11006085070911938\n",
      "Accuracy:  94.69999999999999\n"
     ]
    }
   ],
   "source": [
    "predict(X_test, y_test, n, W, b)"
   ]
  },
  {
   "cell_type": "code",
   "execution_count": 158,
   "metadata": {},
   "outputs": [
    {
     "name": "stdout",
     "output_type": "stream",
     "text": [
      "w1:  1.0063198487401421 w2:  1.0030906068435441\n",
      "b:  0.9956278286248177\n",
      "Final w1:  1.3351888602697006 Final w2:  1.3211271043288393\n",
      "Final b:  0.6898456595665899\n"
     ]
    }
   ],
   "source": [
    "#epoch = 100\n",
    "m = 10000\n",
    "n = 1000\n",
    "X_train, y_train = generate_data(m)\n",
    "X_test, y_test = generate_data(n)\n",
    "W, b = logistic_regression(X_train, y_train, m, alpha=0.1, epoch=100)\n",
    "print(\"Final w1: \", W[0][0], \"Final w2: \", W[0][1])\n",
    "print(\"Final b: \", b)"
   ]
  },
  {
   "cell_type": "code",
   "execution_count": 159,
   "metadata": {},
   "outputs": [
    {
     "name": "stdout",
     "output_type": "stream",
     "text": [
      "Cost:  0.06516634086040182\n",
      "Accuracy:  97.69\n"
     ]
    }
   ],
   "source": [
    "predict(X_train, y_train, m, W, b)"
   ]
  },
  {
   "cell_type": "code",
   "execution_count": 160,
   "metadata": {},
   "outputs": [
    {
     "name": "stdout",
     "output_type": "stream",
     "text": [
      "Cost:  0.07922155420362213\n",
      "Accuracy:  96.7\n"
     ]
    }
   ],
   "source": [
    "predict(X_test, y_test, n, W, b)"
   ]
  },
  {
   "cell_type": "code",
   "execution_count": 165,
   "metadata": {},
   "outputs": [
    {
     "name": "stdout",
     "output_type": "stream",
     "text": [
      "w1:  1.0047327920503533 w2:  1.0047237415279158\n",
      "b:  0.9951688045626496\n",
      "w1:  1.9405234872549268 w2:  1.943288009492797\n",
      "b:  0.16722203390559948\n",
      "w1:  2.375150641152007 w2:  2.379568082250974\n",
      "b:  0.016516351153697196\n",
      "w1:  2.69282040660114 w2:  2.6985751182523563\n",
      "b:  -0.03057530709605249\n",
      "w1:  2.9501018378963453 w2:  2.9569907991828197\n",
      "b:  -0.04927269287040577\n",
      "w1:  3.1692711359528905 w2:  3.1771436757504383\n",
      "b:  -0.05815376438978711\n",
      "w1:  3.3617993733360296 w2:  3.3705389385878513\n",
      "b:  -0.06307082206436247\n",
      "w1:  3.5344755241279264 w2:  3.5439894838077985\n",
      "b:  -0.06617063992863341\n",
      "w1:  3.691689541221377 w2:  3.701902615061043\n",
      "b:  -0.06833596163874853\n",
      "w1:  3.836462344861714 w2:  3.847312178566222\n",
      "b:  -0.06996645979004626\n",
      "Final w1:  3.9707115523349112 Final w2:  3.9821445308841255\n",
      "Final b:  -0.07125738100458442\n"
     ]
    }
   ],
   "source": [
    "#epoch = 5000\n",
    "m = 10000\n",
    "n = 1000\n",
    "X_train, y_train = generate_data(m)\n",
    "X_test, y_test = generate_data(n)\n",
    "W, b = logistic_regression(X_train, y_train, m, alpha=0.1, epoch=5000)\n",
    "print(\"Final w1: \", W[0][0], \"Final w2: \", W[0][1])\n",
    "print(\"Final b: \", b)"
   ]
  },
  {
   "cell_type": "code",
   "execution_count": 166,
   "metadata": {},
   "outputs": [
    {
     "name": "stdout",
     "output_type": "stream",
     "text": [
      "Cost:  0.021046326529837532\n",
      "Accuracy:  99.87\n"
     ]
    }
   ],
   "source": [
    "predict(X_train, y_train, m, W, b)"
   ]
  },
  {
   "cell_type": "code",
   "execution_count": 167,
   "metadata": {},
   "outputs": [
    {
     "name": "stdout",
     "output_type": "stream",
     "text": [
      "Cost:  0.023213101545438927\n",
      "Accuracy:  99.7\n"
     ]
    }
   ],
   "source": [
    "predict(X_test, y_test, n, W, b)"
   ]
  },
  {
   "cell_type": "code",
   "execution_count": 123,
   "metadata": {},
   "outputs": [
    {
     "name": "stdout",
     "output_type": "stream",
     "text": [
      "w1:  1.0004713336749735 w2:  1.00046186439188\n",
      "b:  0.9995488836232408\n",
      "w1:  1.188306355145689 w2:  1.1892700243253753\n",
      "b:  0.8130941335606774\n",
      "w1:  1.3238683526116628 w2:  1.3261100373634145\n",
      "b:  0.678521656791752\n",
      "w1:  1.4327132456205391 w2:  1.4360295127475307\n",
      "b:  0.5753761749685166\n",
      "w1:  1.5250836772358325 w2:  1.5293060402241618\n",
      "b:  0.4936138940559541\n",
      "w1:  1.6061863340216227 w2:  1.6111811060195402\n",
      "b:  0.4273526621033234\n",
      "w1:  1.6790399268999867 w2:  1.684700629727288\n",
      "b:  0.3727911113208929\n",
      "w1:  1.7455548301024362 w2:  1.7517954755394523\n",
      "b:  0.32731251252401605\n",
      "w1:  1.8070191330361862 w2:  1.8137692283155056\n",
      "b:  0.2890346666342329\n",
      "w1:  1.864344434468707 w2:  1.8715453856945303\n",
      "b:  0.25655913995280194\n",
      "Final w1:  1.918096522686598 Final w2:  1.925698275649119\n",
      "Final b:  0.2288720501885902\n"
     ]
    }
   ],
   "source": [
    "#alpha = 0.01\n",
    "m = 10000\n",
    "n = 1000\n",
    "X_train, y_train = generate_data(m)\n",
    "X_test, y_test = generate_data(n)\n",
    "W, b = logistic_regression(X_train, y_train, m, alpha=0.01, epoch=5000)\n",
    "print(\"Final w1: \", W[0][0], \"Final w2: \", W[0][1])\n",
    "print(\"Final b: \", b)"
   ]
  },
  {
   "cell_type": "code",
   "execution_count": 124,
   "metadata": {},
   "outputs": [
    {
     "name": "stdout",
     "output_type": "stream",
     "text": [
      "Cost:  0.04741681902172714\n",
      "Accuracy:  99.0\n"
     ]
    }
   ],
   "source": [
    "predict(X_test, y_test, n, W, b)"
   ]
  },
  {
   "cell_type": "code",
   "execution_count": 125,
   "metadata": {},
   "outputs": [
    {
     "name": "stdout",
     "output_type": "stream",
     "text": [
      "w1:  1.0108480249040825 w2:  1.0176093860391209\n",
      "b:  0.9864186964362329\n",
      "w1:  2.6948110457018144 w2:  2.688660395468346\n",
      "b:  0.08041615412419978\n",
      "w1:  3.368926772975606 w2:  3.3605286520034694\n",
      "b:  0.0675620282749422\n",
      "w1:  3.850736256967076 w2:  3.841292217583168\n",
      "b:  0.07099019268987398\n",
      "w1:  4.236957550427657 w2:  4.226927655101834\n",
      "b:  0.07467943759753592\n",
      "w1:  4.564124332474455 w2:  4.55374678953646\n",
      "b:  0.07784234727886229\n",
      "w1:  4.850523348446734 w2:  4.8399389416935215\n",
      "b:  0.08056206432047028\n",
      "w1:  5.106783015124995 w2:  5.096081708919362\n",
      "b:  0.08294449183261318\n",
      "w1:  5.339693925370131 w2:  5.328936303189876\n",
      "b:  0.08506585135472634\n",
      "w1:  5.553890004890378 w2:  5.543118418499843\n",
      "b:  0.08697972360012425\n",
      "Final w1:  5.752307132370632 Final w2:  5.7415519549952805\n",
      "Final b:  0.08872150406237106\n"
     ]
    }
   ],
   "source": [
    "#alpha = 0.3\n",
    "m = 10000\n",
    "n = 1000\n",
    "X_train, y_train = generate_data(m)\n",
    "X_test, y_test = generate_data(n)\n",
    "W, b = logistic_regression(X_train, y_train, m, alpha=0.3, epoch=5000)\n",
    "print(\"Final w1: \", W[0][0], \"Final w2: \", W[0][1])\n",
    "print(\"Final b: \", b)"
   ]
  },
  {
   "cell_type": "code",
   "execution_count": 126,
   "metadata": {},
   "outputs": [
    {
     "name": "stdout",
     "output_type": "stream",
     "text": [
      "Cost:  0.011563252372891719\n",
      "Accuracy:  100.0\n"
     ]
    }
   ],
   "source": [
    "predict(X_test, y_test, n, W, b)"
   ]
  },
  {
   "cell_type": "code",
   "execution_count": 127,
   "metadata": {},
   "outputs": [
    {
     "name": "stdout",
     "output_type": "stream",
     "text": [
      "w1:  1.0024702656134954 w2:  1.0021479244623088\n",
      "b:  0.9976780621004929\n",
      "w1:  1.6066640771880114 w2:  1.6036535716283258\n",
      "b:  0.4026352310141417\n",
      "w1:  1.9192454313964393 w2:  1.9163781732705447\n",
      "b:  0.19410730308281307\n",
      "w1:  2.1521796615077053 w2:  2.1495115497131443\n",
      "b:  0.09827342347784795\n",
      "w1:  2.343787050737119 w2:  2.3413527213538776\n",
      "b:  0.049297618065034736\n",
      "w1:  2.5090028251895142 w2:  2.5068253903962057\n",
      "b:  0.022702817808027673\n",
      "w1:  2.655521651111184 w2:  2.653614754314347\n",
      "b:  0.007709700517298055\n",
      "w1:  2.7879376150088717 w2:  2.7863080825263586\n",
      "b:  -0.0009256062981941277\n",
      "w1:  2.909254410368073 w2:  2.9079044748351945\n",
      "b:  -0.005932889028688268\n",
      "w1:  3.021561351905189 w2:  3.0204902441539\n",
      "b:  -0.008805825317899913\n",
      "Final w1:  3.1261760888478762 Final w2:  3.1253805660605467\n",
      "Final b:  -0.01039157391026718\n"
     ]
    }
   ],
   "source": [
    "#alpha = 0.05\n",
    "m = 10000\n",
    "n = 1000\n",
    "X_train, y_train = generate_data(m)\n",
    "X_test, y_test = generate_data(n)\n",
    "W, b = logistic_regression(X_train, y_train, m, alpha=0.05, epoch=5000)\n",
    "print(\"Final w1: \", W[0][0], \"Final w2: \", W[0][1])\n",
    "print(\"Final b: \", b)"
   ]
  },
  {
   "cell_type": "code",
   "execution_count": 128,
   "metadata": {},
   "outputs": [
    {
     "name": "stdout",
     "output_type": "stream",
     "text": [
      "Cost:  0.027312061464446435\n",
      "Accuracy:  99.9\n"
     ]
    }
   ],
   "source": [
    "predict(X_test, y_test, n, W, b)"
   ]
  },
  {
   "cell_type": "code",
   "execution_count": 8,
   "metadata": {},
   "outputs": [
    {
     "name": "stdout",
     "output_type": "stream",
     "text": [
      "w1:  1.0228892194281265 w2:  1.0244146549669315\n",
      "b:  0.9774067603436385\n",
      "w1:  3.148555472649752 w2:  3.1626114338552087\n",
      "b:  0.07134484573925429\n",
      "w1:  3.9383284114272197 w2:  3.9541323925465477\n",
      "b:  0.08067183657638984\n",
      "w1:  4.498069925905279 w2:  4.514927010345085\n",
      "b:  0.08835302245887663\n",
      "w1:  4.945998738035529 w2:  4.963607240015899\n",
      "b:  0.09383498012233445\n",
      "w1:  5.325634065542567 w2:  5.343818598850159\n",
      "b:  0.09810352756524172\n",
      "w1:  5.6584328026280994 w2:  5.677078393794152\n",
      "b:  0.10162592179849708\n",
      "w1:  5.956741120656922 w2:  5.975766745455951\n",
      "b:  0.10464378713611501\n",
      "w1:  6.228391366238632 w2:  6.247737034303239\n",
      "b:  0.10729624930398281\n",
      "w1:  6.478700897485735 w2:  6.498320563317369\n",
      "b:  0.10967033506047466\n",
      "Final w1:  6.71101475656896 Final w2:  6.730871650760585\n",
      "Final b:  0.11181993281472329\n"
     ]
    }
   ],
   "source": [
    "#alpha = 0.5\n",
    "m = 10000\n",
    "n = 1000\n",
    "X_train, y_train = generate_data(m)\n",
    "X_test, y_test = generate_data(n)\n",
    "W, b = logistic_regression(X_train, y_train, m, alpha=0.5, epoch=5000)\n",
    "print(\"Final w1: \", W[0][0], \"Final w2: \", W[0][1])\n",
    "print(\"Final b: \", b)"
   ]
  },
  {
   "cell_type": "code",
   "execution_count": 9,
   "metadata": {},
   "outputs": [
    {
     "name": "stdout",
     "output_type": "stream",
     "text": [
      "Cost:  0.013881695996955564\n",
      "Accuracy:  99.9\n"
     ]
    }
   ],
   "source": [
    "predict(X_test, y_test, n, W, b)"
   ]
  },
  {
   "cell_type": "code",
   "execution_count": 10,
   "metadata": {},
   "outputs": [
    {
     "name": "stdout",
     "output_type": "stream",
     "text": [
      "w1:  1.0404681996148732 w2:  1.0273718406029146\n",
      "b:  0.9663413313831569\n",
      "w1:  3.5203552295917073 w2:  3.5222933332166146\n",
      "b:  -0.030581253754269823\n",
      "w1:  4.418237120418483 w2:  4.420746566147225\n",
      "b:  -0.03635762294553071\n",
      "w1:  5.053962899078351 w2:  5.0566673347885365\n",
      "b:  -0.039882042549923294\n",
      "w1:  5.562253429666851 w2:  5.565021464369403\n",
      "b:  -0.04292691225325943\n",
      "w1:  5.992616767970255 w2:  5.99538998547766\n",
      "b:  -0.04568811682710998\n",
      "w1:  6.36948056546568 w2:  6.372229992239007\n",
      "b:  -0.04823754811085282\n",
      "w1:  6.706917602046378 w2:  6.709628108597097\n",
      "b:  -0.050613926576340854\n",
      "w1:  7.013866634283215 w2:  7.016530245378452\n",
      "b:  -0.05284278927140907\n",
      "w1:  7.296402879497021 w2:  7.2990155549030895\n",
      "b:  -0.05494299458857417\n",
      "Final w1:  7.558359174179999 Final w2:  7.560919235928924\n",
      "Final b:  -0.05692551494008652\n"
     ]
    }
   ],
   "source": [
    "#alpha = 0.7\n",
    "m = 10000\n",
    "n = 1000\n",
    "X_train, y_train = generate_data(m)\n",
    "X_test, y_test = generate_data(n)\n",
    "W, b = logistic_regression(X_train, y_train, m, alpha=0.7, epoch=5000)\n",
    "print(\"Final w1: \", W[0][0], \"Final w2: \", W[0][1])\n",
    "print(\"Final b: \", b)"
   ]
  },
  {
   "cell_type": "code",
   "execution_count": 11,
   "metadata": {},
   "outputs": [
    {
     "name": "stdout",
     "output_type": "stream",
     "text": [
      "Cost:  0.011477747694463592\n",
      "Accuracy:  100.0\n"
     ]
    }
   ],
   "source": [
    "predict(X_test, y_test, n, W, b)"
   ]
  },
  {
   "cell_type": "code",
   "execution_count": null,
   "metadata": {},
   "outputs": [],
   "source": []
  }
 ],
 "metadata": {
  "interpreter": {
   "hash": "03e30155a8bc2aebd4337705006146e77759413953328d6ea8a447f30ad5fd64"
  },
  "kernelspec": {
   "display_name": "Python 3.8.8 64-bit ('base': conda)",
   "language": "python",
   "name": "python3"
  },
  "language_info": {
   "codemirror_mode": {
    "name": "ipython",
    "version": 3
   },
   "file_extension": ".py",
   "mimetype": "text/x-python",
   "name": "python",
   "nbconvert_exporter": "python",
   "pygments_lexer": "ipython3",
   "version": "3.8.8"
  },
  "orig_nbformat": 4
 },
 "nbformat": 4,
 "nbformat_minor": 2
}
